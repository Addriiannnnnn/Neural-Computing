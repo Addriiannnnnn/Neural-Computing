{
 "cells": [
  {
   "cell_type": "markdown",
   "metadata": {
    "id": "BAfJCaULD2Yp"
   },
   "source": [
    "# Distributed Training of Neural Network Models\n",
    "\n",
    "\n",
    "Below is the basic implementation of Federated Learning code for 2 clients and a server for one communication round using the MNIST dataset.\n",
    "\n",
    "Your task for this lab is to utilize this code as a benchmark and accomplish  the following objectives:\n",
    "\n",
    "1. Comment each section of the code to understand its functionality.\n",
    "\n",
    "2. Experiment with different neural network architectures, varying the number of layers and activation functions\n",
    "\n",
    "3. Assess the model's performance (accuracy, precision, recall, and f-score) as the number of clients changes. Utilize 2, 4, 6, 8, and 10 clients, and plot a graph illustrating the model's performance across varying client counts.\n",
    "\n",
    "4. Introduce one dishonest client for a any sepcific number of clients of your choice. For this client, assign some training labels ('y_train') to a specific label, such as '4'. Analyze how the performance ((accuracy, precision, recall, and f-score)) of the global model is affected by the presence of a dishonest client. Find approximately how many labels need to be maliciously altered so that the performance degrades."
   ]
  },
  {
   "cell_type": "code",
   "execution_count": 1,
   "metadata": {
    "id": "0rQj0pd83zCS"
   },
   "outputs": [],
   "source": [
    "import numpy as np\n",
    "import tensorflow as tf\n",
    "from tensorflow.keras.datasets import mnist\n",
    "from tensorflow.keras.models import Sequential\n",
    "from tensorflow.keras.layers import Dense, Flatten\n",
    "from tensorflow.keras.optimizers import SGD\n",
    "from sklearn.model_selection import train_test_split\n",
    "from keras import backend as K\n",
    "import random"
   ]
  },
  {
   "cell_type": "code",
   "execution_count": 2,
   "metadata": {
    "id": "jGQHqF2Y3zF5"
   },
   "outputs": [],
   "source": [
    "np.random.seed(2325595) # Set seed for numpy. Put your SID instead of number '42'\n",
    "random.seed(2325595) # Set seed for Python's built-in random number generator.  Put your SID instead of number '42'\n",
    "tf.random.set_seed(2325595) # Set seed for TensorFlow. Put your SID instead of number '42'\n",
    "K.clear_session()\n"
   ]
  },
  {
   "cell_type": "code",
   "execution_count": 3,
   "metadata": {
    "id": "0Mf8sjel39eG"
   },
   "outputs": [],
   "source": [
    "(x_train, y_train), (x_test, y_test) = mnist.load_data()"
   ]
  },
  {
   "cell_type": "code",
   "execution_count": 4,
   "metadata": {
    "id": "QGo4_zxa39je"
   },
   "outputs": [],
   "source": [
    "x_train = x_train.astype('float32') / 255.0\n",
    "x_test = x_test.astype('float32') / 255.0\n",
    "x_train = np.expand_dims(x_train, -1)\n",
    "x_test = np.expand_dims(x_test, -1)"
   ]
  },
  {
   "cell_type": "code",
   "execution_count": 5,
   "metadata": {
    "colab": {
     "base_uri": "https://localhost:8080/"
    },
    "id": "q8u-RBPj50Ht",
    "outputId": "829f32a1-1694-43a4-9012-9d19bdf5121a"
   },
   "outputs": [
    {
     "name": "stdout",
     "output_type": "stream",
     "text": [
      "(60000, 28, 28, 1)\n",
      "(10000, 28, 28, 1)\n"
     ]
    }
   ],
   "source": [
    "print(x_train.shape)\n",
    "print(x_test.shape)"
   ]
  },
  {
   "cell_type": "code",
   "execution_count": 6,
   "metadata": {
    "id": "1FzSanlW4DWD"
   },
   "outputs": [],
   "source": [
    "def create_client_model():\n",
    "    model = Sequential([\n",
    "        Flatten(input_shape=(28, 28, 1)),\n",
    "        Dense(128, activation='relu'),\n",
    "        Dense(10, activation='softmax')\n",
    "    ])\n",
    "    model.compile(optimizer='adam', loss='sparse_categorical_crossentropy', metrics=['accuracy'])\n",
    "    return model\n",
    "\n",
    "def train_client_model(model, x_train, y_train, epochs=5):\n",
    "    model.fit(x_train, y_train, epochs=epochs, verbose=1)\n",
    "    return model"
   ]
  },
  {
   "cell_type": "markdown",
   "metadata": {},
   "source": [
    "## 2 clients"
   ]
  },
  {
   "cell_type": "code",
   "execution_count": 7,
   "metadata": {
    "id": "faEMcu9L4DeQ"
   },
   "outputs": [],
   "source": [
    "x_train_c1, x_train_c2, y_train_c1, y_train_c2 = train_test_split(x_train, y_train, test_size=0.5, random_state=2325595)\n",
    "\n"
   ]
  },
  {
   "cell_type": "code",
   "execution_count": 8,
   "metadata": {
    "colab": {
     "base_uri": "https://localhost:8080/"
    },
    "id": "lNZLQ0j_5_QN",
    "outputId": "b432caad-65ba-4c03-9234-a8bad83c4a22"
   },
   "outputs": [
    {
     "name": "stdout",
     "output_type": "stream",
     "text": [
      "(30000, 28, 28, 1)\n",
      "(30000, 28, 28, 1)\n",
      "(30000,)\n",
      "(30000,)\n"
     ]
    }
   ],
   "source": [
    "print(x_train_c1.shape)\n",
    "print(x_train_c2.shape)\n",
    "print(y_train_c1.shape)\n",
    "print(y_train_c2.shape)\n"
   ]
  },
  {
   "cell_type": "code",
   "execution_count": 9,
   "metadata": {
    "colab": {
     "base_uri": "https://localhost:8080/"
    },
    "id": "8NDoAqhf6HIN",
    "outputId": "e506fc63-aa80-4ba1-b2a8-278c1521fd3a"
   },
   "outputs": [
    {
     "name": "stdout",
     "output_type": "stream",
     "text": [
      "Epoch 1/5\n",
      "938/938 [==============================] - 12s 9ms/step - loss: 0.3340 - accuracy: 0.9058\n",
      "Epoch 2/5\n",
      "938/938 [==============================] - 7s 7ms/step - loss: 0.1554 - accuracy: 0.9548\n",
      "Epoch 3/5\n",
      "938/938 [==============================] - 6s 7ms/step - loss: 0.1060 - accuracy: 0.9683\n",
      "Epoch 4/5\n",
      "938/938 [==============================] - 7s 7ms/step - loss: 0.0784 - accuracy: 0.9764\n",
      "Epoch 5/5\n",
      "938/938 [==============================] - 7s 7ms/step - loss: 0.0593 - accuracy: 0.9830\n",
      "Epoch 1/5\n",
      "938/938 [==============================] - 15s 10ms/step - loss: 0.3537 - accuracy: 0.8996\n",
      "Epoch 2/5\n",
      "938/938 [==============================] - 6s 7ms/step - loss: 0.1668 - accuracy: 0.9523\n",
      "Epoch 3/5\n",
      "938/938 [==============================] - 5s 6ms/step - loss: 0.1144 - accuracy: 0.9665\n",
      "Epoch 4/5\n",
      "938/938 [==============================] - 8s 8ms/step - loss: 0.0866 - accuracy: 0.9739\n",
      "Epoch 5/5\n",
      "938/938 [==============================] - 9s 9ms/step - loss: 0.0673 - accuracy: 0.9804\n"
     ]
    }
   ],
   "source": [
    "# Create and train client models\n",
    "client1_model = create_client_model()\n",
    "client2_model = create_client_model()\n",
    "\n",
    "client1_model = train_client_model(client1_model, x_train_c1, y_train_c1)\n",
    "client2_model = train_client_model(client2_model, x_train_c2, y_train_c2)"
   ]
  },
  {
   "cell_type": "code",
   "execution_count": 10,
   "metadata": {
    "id": "Knw07uE74Dgp"
   },
   "outputs": [],
   "source": [
    "# Federated averaging\n",
    "def federated_average_weights(weights1, weights2):\n",
    "    new_weights = []\n",
    "    for w1, w2 in zip(weights1, weights2):\n",
    "        new_weights.append((w1 + w2) / 2)\n",
    "    return new_weights"
   ]
  },
  {
   "cell_type": "code",
   "execution_count": 11,
   "metadata": {
    "id": "ojdtEncJ4DjB"
   },
   "outputs": [],
   "source": [
    "# Aggregate models\n",
    "aggregated_weights = federated_average_weights(client1_model.get_weights(), client2_model.get_weights())"
   ]
  },
  {
   "cell_type": "code",
   "execution_count": 12,
   "metadata": {
    "id": "nnE_5XnS6OUN"
   },
   "outputs": [],
   "source": [
    "# Create global model and set weights\n",
    "global_model = create_client_model()\n",
    "global_model.set_weights(aggregated_weights)\n"
   ]
  },
  {
   "cell_type": "code",
   "execution_count": 13,
   "metadata": {
    "colab": {
     "base_uri": "https://localhost:8080/"
    },
    "id": "cvhzExvp6Qg8",
    "outputId": "4ea8b282-6176-4db4-f726-cc03e9d871c9"
   },
   "outputs": [
    {
     "name": "stdout",
     "output_type": "stream",
     "text": [
      "313/313 - 4s - loss: 0.5199 - accuracy: 0.8464 - 4s/epoch - 14ms/step\n",
      "Test accuracy: 0.8464000225067139\n"
     ]
    }
   ],
   "source": [
    "# Evaluate global model\n",
    "test_loss, test_acc = global_model.evaluate(x_test, y_test, verbose=2)\n",
    "print('Test accuracy:', test_acc)"
   ]
  },
  {
   "cell_type": "code",
   "execution_count": 14,
   "metadata": {
    "id": "yFPUa1ZA6W0E"
   },
   "outputs": [],
   "source": [
    "from sklearn.metrics import classification_report\n",
    "from sklearn.metrics import accuracy_score, precision_score, recall_score, f1_score\n"
   ]
  },
  {
   "cell_type": "code",
   "execution_count": 15,
   "metadata": {
    "colab": {
     "base_uri": "https://localhost:8080/"
    },
    "id": "hFq-8E-36W5E",
    "outputId": "573a7dd3-2367-43aa-bb7e-94a09c27a0e4"
   },
   "outputs": [
    {
     "name": "stdout",
     "output_type": "stream",
     "text": [
      "313/313 [==============================] - 4s 12ms/step\n",
      "(10000, 10)\n"
     ]
    }
   ],
   "source": [
    "prediction = global_model.predict(x_test)\n",
    "print(prediction.shape)\n",
    "\n",
    "prediction = list(prediction.argmax(axis=1))"
   ]
  },
  {
   "cell_type": "code",
   "execution_count": 16,
   "metadata": {
    "colab": {
     "base_uri": "https://localhost:8080/"
    },
    "id": "BEKOAJ356XLk",
    "outputId": "12337ddf-3d3f-4c31-eac2-bd53e462aaa0"
   },
   "outputs": [
    {
     "name": "stdout",
     "output_type": "stream",
     "text": [
      "              precision    recall  f1-score   support\n",
      "\n",
      "           0       0.97      0.74      0.84       980\n",
      "           1       0.95      0.84      0.89      1135\n",
      "           2       0.61      0.97      0.75      1032\n",
      "           3       0.88      0.90      0.89      1010\n",
      "           4       0.99      0.79      0.88       982\n",
      "           5       0.70      0.95      0.80       892\n",
      "           6       0.94      0.87      0.91       958\n",
      "           7       0.87      0.94      0.90      1028\n",
      "           8       0.88      0.81      0.85       974\n",
      "           9       0.97      0.64      0.77      1009\n",
      "\n",
      "    accuracy                           0.85     10000\n",
      "   macro avg       0.88      0.85      0.85     10000\n",
      "weighted avg       0.88      0.85      0.85     10000\n",
      "\n"
     ]
    }
   ],
   "source": [
    "print(classification_report(y_test, prediction))"
   ]
  },
  {
   "cell_type": "code",
   "execution_count": 17,
   "metadata": {
    "colab": {
     "base_uri": "https://localhost:8080/"
    },
    "id": "5EsuIANE39qe",
    "outputId": "1f375fc8-2742-4221-9c93-a0bf58e95455"
   },
   "outputs": [
    {
     "name": "stdout",
     "output_type": "stream",
     "text": [
      "Accuracy test set: 0.8464\n",
      "precison test set: 0.8775455396785825\n",
      "Recall test set: 0.8464\n",
      "f-score test set: 0.8493066701172464\n"
     ]
    }
   ],
   "source": [
    "print(\"Accuracy test set:\", accuracy_score(y_test, prediction))\n",
    "print(\"precison test set:\", precision_score(y_test, prediction, average = 'weighted'))\n",
    "print(\"Recall test set:\", recall_score(y_test, prediction, average = 'weighted'))\n",
    "print(\"f-score test set:\", f1_score(y_test, prediction, average = 'weighted'))\n"
   ]
  },
  {
   "cell_type": "code",
   "execution_count": 18,
   "metadata": {
    "id": "g76dDZ7e5PsN"
   },
   "outputs": [],
   "source": [
    "test_precision= []\n",
    "test_recall = []\n",
    "test_f1_score = []\n",
    "test_accuracy=[]"
   ]
  },
  {
   "cell_type": "code",
   "execution_count": 19,
   "metadata": {
    "id": "g2sH9duA_zWS"
   },
   "outputs": [],
   "source": [
    "test_accuracy.append(0.8464)\n",
    "test_precision.append(0.8775455396785825)\n",
    "test_recall.append(0.8464)\n",
    "test_f1_score.append(0.8493066701172464)"
   ]
  },
  {
   "cell_type": "code",
   "execution_count": 20,
   "metadata": {},
   "outputs": [
    {
     "name": "stdout",
     "output_type": "stream",
     "text": [
      "[0.8464]\n",
      "[0.8775455396785825]\n",
      "[0.8464]\n",
      "[0.8493066701172464]\n"
     ]
    }
   ],
   "source": [
    "print(test_accuracy)\n",
    "print(test_precision)\n",
    "print(test_recall)\n",
    "print(test_f1_score)"
   ]
  },
  {
   "cell_type": "markdown",
   "metadata": {
    "id": "D_nZSIjnBfE9"
   },
   "source": [
    "## 4 clients"
   ]
  },
  {
   "cell_type": "code",
   "execution_count": 21,
   "metadata": {
    "id": "Ol34p-Sy_zoU"
   },
   "outputs": [],
   "source": [
    "# split data into 4 clients"
   ]
  },
  {
   "cell_type": "code",
   "execution_count": 22,
   "metadata": {
    "id": "xEb_yZ1fBizY"
   },
   "outputs": [],
   "source": [
    "client_1 = (x_train[0:15000], y_train[0:15000])\n",
    "client_2 = (x_train[15000:30000], y_train[15000:30000])\n",
    "client_3 = (x_train[30000:45000], y_train[30000:45000])\n",
    "client_4 = (x_train[45000:], y_train[45000:])\n"
   ]
  },
  {
   "cell_type": "code",
   "execution_count": 23,
   "metadata": {
    "colab": {
     "base_uri": "https://localhost:8080/"
    },
    "id": "La4b_ajZBi25",
    "outputId": "92e642ab-78ec-48ce-f8f9-f58492e3cdf6"
   },
   "outputs": [
    {
     "name": "stdout",
     "output_type": "stream",
     "text": [
      "(15000, 28, 28, 1)\n",
      "(15000, 28, 28, 1)\n",
      "(15000, 28, 28, 1)\n",
      "(15000, 28, 28, 1)\n",
      "(15000,)\n",
      "(15000,)\n",
      "(15000,)\n",
      "(15000,)\n"
     ]
    }
   ],
   "source": [
    "print(client_1[0].shape)\n",
    "print(client_2[0].shape)\n",
    "print(client_3[0].shape)\n",
    "print(client_4[0].shape)\n",
    "\n",
    "print(client_1[1].shape)\n",
    "print(client_2[1].shape)\n",
    "print(client_3[1].shape)\n",
    "print(client_4[1].shape)"
   ]
  },
  {
   "cell_type": "code",
   "execution_count": 24,
   "metadata": {
    "colab": {
     "base_uri": "https://localhost:8080/"
    },
    "id": "AIRcHQQLBi5D",
    "outputId": "403ce900-bf3e-4a56-8236-6ed731ed19ee"
   },
   "outputs": [
    {
     "name": "stdout",
     "output_type": "stream",
     "text": [
      "Epoch 1/5\n",
      "469/469 [==============================] - 6s 4ms/step - loss: 0.4469 - accuracy: 0.8746\n",
      "Epoch 2/5\n",
      "469/469 [==============================] - 3s 7ms/step - loss: 0.2139 - accuracy: 0.9387\n",
      "Epoch 3/5\n",
      "469/469 [==============================] - 4s 9ms/step - loss: 0.1479 - accuracy: 0.9591\n",
      "Epoch 4/5\n",
      "469/469 [==============================] - 4s 8ms/step - loss: 0.1119 - accuracy: 0.9693\n",
      "Epoch 5/5\n",
      "469/469 [==============================] - 4s 8ms/step - loss: 0.0847 - accuracy: 0.9777\n",
      "Epoch 1/5\n",
      "469/469 [==============================] - 5s 6ms/step - loss: 2.3151 - accuracy: 0.1021\n",
      "Epoch 2/5\n",
      "469/469 [==============================] - 5s 12ms/step - loss: 2.2983 - accuracy: 0.1168\n",
      "Epoch 3/5\n",
      "469/469 [==============================] - 6s 13ms/step - loss: 2.2869 - accuracy: 0.1317\n",
      "Epoch 4/5\n",
      "469/469 [==============================] - 5s 10ms/step - loss: 2.2744 - accuracy: 0.1387\n",
      "Epoch 5/5\n",
      "469/469 [==============================] - 3s 6ms/step - loss: 2.2534 - accuracy: 0.1530\n",
      "Epoch 1/5\n",
      "469/469 [==============================] - 4s 6ms/step - loss: 2.3154 - accuracy: 0.0997\n",
      "Epoch 2/5\n",
      "469/469 [==============================] - 3s 6ms/step - loss: 2.2975 - accuracy: 0.1166\n",
      "Epoch 3/5\n",
      "469/469 [==============================] - 4s 9ms/step - loss: 2.2884 - accuracy: 0.1277\n",
      "Epoch 4/5\n",
      "469/469 [==============================] - 5s 10ms/step - loss: 2.2749 - accuracy: 0.1403\n",
      "Epoch 5/5\n",
      "469/469 [==============================] - 4s 8ms/step - loss: 2.2540 - accuracy: 0.1565\n",
      "Epoch 1/5\n",
      "469/469 [==============================] - 4s 6ms/step - loss: 2.3132 - accuracy: 0.1064\n",
      "Epoch 2/5\n",
      "469/469 [==============================] - 4s 9ms/step - loss: 2.2976 - accuracy: 0.1174\n",
      "Epoch 3/5\n",
      "469/469 [==============================] - 8s 16ms/step - loss: 2.2845 - accuracy: 0.1339\n",
      "Epoch 4/5\n",
      "469/469 [==============================] - 6s 12ms/step - loss: 2.2707 - accuracy: 0.1451\n",
      "Epoch 5/5\n",
      "469/469 [==============================] - 3s 7ms/step - loss: 2.2476 - accuracy: 0.1651\n"
     ]
    }
   ],
   "source": [
    "client1_model = create_client_model()\n",
    "client2_model = create_client_model()\n",
    "client3_model = create_client_model()\n",
    "client4_model = create_client_model()\n",
    "\n",
    "client1_model = train_client_model(client1_model, client_1[0], client_1[1])\n",
    "client2_model = train_client_model(client2_model, client_2[0], client_1[1])\n",
    "client3_model = train_client_model(client3_model, client_3[0], client_1[1])\n",
    "client4_model = train_client_model(client4_model, client_4[0], client_1[1])"
   ]
  },
  {
   "cell_type": "code",
   "execution_count": 25,
   "metadata": {
    "id": "b5XixPAF_zqy"
   },
   "outputs": [],
   "source": [
    "# Federated averaging\n",
    "def federated_average_weights(weights1, weights2, weights3, weights4):\n",
    "    new_weights = []\n",
    "    for w1, w2, w3, w4 in zip(weights1, weights2,  weights3,  weights4):\n",
    "        new_weights.append((w1 + w2 + w3 + w4) / 4)\n",
    "    return new_weights"
   ]
  },
  {
   "cell_type": "code",
   "execution_count": 26,
   "metadata": {
    "id": "iRHs1RAGEZtk"
   },
   "outputs": [],
   "source": [
    "# Aggregate models\n",
    "aggregated_weights = federated_average_weights(client1_model.get_weights(), client2_model.get_weights(), client3_model.get_weights(), client4_model.get_weights())"
   ]
  },
  {
   "cell_type": "code",
   "execution_count": 27,
   "metadata": {
    "colab": {
     "base_uri": "https://localhost:8080/"
    },
    "id": "DfN6GVmJEZv7",
    "outputId": "7634fdf7-5b95-42de-9396-137366fb6cb2"
   },
   "outputs": [
    {
     "name": "stdout",
     "output_type": "stream",
     "text": [
      "313/313 - 4s - loss: 2.2270 - accuracy: 0.3094 - 4s/epoch - 11ms/step\n",
      "Test accuracy: 0.3093999922275543\n"
     ]
    }
   ],
   "source": [
    "# Create global model and set weights\n",
    "global_model = create_client_model()\n",
    "global_model.set_weights(aggregated_weights)\n",
    "\n",
    "# Evaluate global model\n",
    "test_loss, test_acc = global_model.evaluate(x_test, y_test, verbose=2)\n",
    "print('Test accuracy:', test_acc)"
   ]
  },
  {
   "cell_type": "code",
   "execution_count": 28,
   "metadata": {
    "colab": {
     "base_uri": "https://localhost:8080/"
    },
    "id": "s8fZXim3EZyL",
    "outputId": "329f5eee-a6e1-4cea-e660-6e49982ade94"
   },
   "outputs": [
    {
     "name": "stdout",
     "output_type": "stream",
     "text": [
      "313/313 [==============================] - 2s 4ms/step\n",
      "(10000, 10)\n"
     ]
    }
   ],
   "source": [
    "prediction = global_model.predict(x_test)\n",
    "print(prediction.shape)\n",
    "\n",
    "prediction = list(prediction.argmax(axis=1))"
   ]
  },
  {
   "cell_type": "code",
   "execution_count": 29,
   "metadata": {
    "colab": {
     "base_uri": "https://localhost:8080/"
    },
    "id": "2husRH-OEZ0c",
    "outputId": "7cbbfd7c-2870-4755-893b-a32aa6951c86"
   },
   "outputs": [
    {
     "name": "stdout",
     "output_type": "stream",
     "text": [
      "Accuracy test set: 0.3094\n",
      "precison test set: 0.3704074236615539\n",
      "Recall test set: 0.3094\n",
      "f-score test set: 0.28292712051564833\n"
     ]
    }
   ],
   "source": [
    "print(\"Accuracy test set:\", accuracy_score(y_test, prediction))\n",
    "print(\"precison test set:\", precision_score(y_test, prediction, average = 'weighted'))\n",
    "print(\"Recall test set:\", recall_score(y_test, prediction, average = 'weighted'))\n",
    "print(\"f-score test set:\", f1_score(y_test, prediction, average = 'weighted'))"
   ]
  },
  {
   "cell_type": "code",
   "execution_count": 30,
   "metadata": {},
   "outputs": [],
   "source": [
    "test_accuracy.append(0.3094)\n",
    "test_precision.append(0.3704074236615539)\n",
    "test_recall.append(0.3094)\n",
    "test_f1_score.append(0.28292712051564833)"
   ]
  },
  {
   "cell_type": "code",
   "execution_count": 31,
   "metadata": {},
   "outputs": [
    {
     "name": "stdout",
     "output_type": "stream",
     "text": [
      "[0.8464, 0.3094]\n",
      "[0.8775455396785825, 0.3704074236615539]\n",
      "[0.8464, 0.3094]\n",
      "[0.8493066701172464, 0.28292712051564833]\n"
     ]
    }
   ],
   "source": [
    "print(test_accuracy)\n",
    "print(test_precision)\n",
    "print(test_recall)\n",
    "print(test_f1_score)"
   ]
  },
  {
   "cell_type": "markdown",
   "metadata": {
    "id": "YWQqronzGcEn"
   },
   "source": [
    "## 6 clients cell\n"
   ]
  },
  {
   "cell_type": "code",
   "execution_count": 32,
   "metadata": {
    "id": "OUN9YHRYGd4w"
   },
   "outputs": [],
   "source": [
    "client_1 = (x_train[0:10000], y_train[0:10000])\n",
    "client_2 = (x_train[10000:20000], y_train[10000:20000])\n",
    "client_3 = (x_train[20000:30000], y_train[20000:30000])\n",
    "client_4 = (x_train[30000:40000], y_train[30000:40000])\n",
    "client_5 = (x_train[40000:50000], y_train[40000:50000])\n",
    "client_6 = (x_train[50000:], y_train[50000:])"
   ]
  },
  {
   "cell_type": "code",
   "execution_count": 33,
   "metadata": {
    "colab": {
     "base_uri": "https://localhost:8080/"
    },
    "id": "8ZulvDQEGXgS",
    "outputId": "051b2727-8625-43a7-e2c4-3d6d48f342b2"
   },
   "outputs": [
    {
     "name": "stdout",
     "output_type": "stream",
     "text": [
      "(10000, 28, 28, 1)\n",
      "(10000, 28, 28, 1)\n",
      "(10000, 28, 28, 1)\n",
      "(10000, 28, 28, 1)\n",
      "(10000, 28, 28, 1)\n",
      "(10000, 28, 28, 1)\n",
      "(10000,)\n",
      "(10000,)\n",
      "(10000,)\n",
      "(10000,)\n",
      "(10000,)\n",
      "(10000,)\n"
     ]
    }
   ],
   "source": [
    "print(client_1[0].shape)\n",
    "print(client_2[0].shape)\n",
    "print(client_3[0].shape)\n",
    "print(client_4[0].shape)\n",
    "print(client_5[0].shape)\n",
    "print(client_6[0].shape)\n",
    "\n",
    "print(client_1[1].shape)\n",
    "print(client_2[1].shape)\n",
    "print(client_3[1].shape)\n",
    "print(client_4[1].shape)\n",
    "print(client_5[1].shape)\n",
    "print(client_6[1].shape)"
   ]
  },
  {
   "cell_type": "code",
   "execution_count": 34,
   "metadata": {
    "colab": {
     "base_uri": "https://localhost:8080/"
    },
    "id": "3odWh-mwGXip",
    "outputId": "67730390-02ec-4bfc-a6cd-b0ae81990240"
   },
   "outputs": [
    {
     "name": "stdout",
     "output_type": "stream",
     "text": [
      "Epoch 1/5\n",
      "313/313 [==============================] - 6s 10ms/step - loss: 0.5272 - accuracy: 0.8573\n",
      "Epoch 2/5\n",
      "313/313 [==============================] - 3s 8ms/step - loss: 0.2510 - accuracy: 0.9287\n",
      "Epoch 3/5\n",
      "313/313 [==============================] - 2s 6ms/step - loss: 0.1841 - accuracy: 0.9474\n",
      "Epoch 4/5\n",
      "313/313 [==============================] - 3s 8ms/step - loss: 0.1419 - accuracy: 0.9591\n",
      "Epoch 5/5\n",
      "313/313 [==============================] - 2s 7ms/step - loss: 0.1124 - accuracy: 0.9696\n",
      "Epoch 1/5\n",
      "313/313 [==============================] - 7s 13ms/step - loss: 2.3214 - accuracy: 0.1012\n",
      "Epoch 2/5\n",
      "313/313 [==============================] - 3s 10ms/step - loss: 2.2936 - accuracy: 0.1240\n",
      "Epoch 3/5\n",
      "313/313 [==============================] - 3s 10ms/step - loss: 2.2794 - accuracy: 0.1413\n",
      "Epoch 4/5\n",
      "313/313 [==============================] - 2s 5ms/step - loss: 2.2599 - accuracy: 0.1526\n",
      "Epoch 5/5\n",
      "313/313 [==============================] - 2s 6ms/step - loss: 2.2327 - accuracy: 0.1802\n",
      "Epoch 1/5\n",
      "313/313 [==============================] - 4s 6ms/step - loss: 2.3219 - accuracy: 0.1011\n",
      "Epoch 2/5\n",
      "313/313 [==============================] - 2s 6ms/step - loss: 2.2942 - accuracy: 0.1261\n",
      "Epoch 3/5\n",
      "313/313 [==============================] - 2s 7ms/step - loss: 2.2776 - accuracy: 0.1391\n",
      "Epoch 4/5\n",
      "313/313 [==============================] - 2s 7ms/step - loss: 2.2566 - accuracy: 0.1546\n",
      "Epoch 5/5\n",
      "313/313 [==============================] - 2s 7ms/step - loss: 2.2275 - accuracy: 0.1796\n",
      "Epoch 1/5\n",
      "313/313 [==============================] - 9s 18ms/step - loss: 2.3266 - accuracy: 0.1012\n",
      "Epoch 2/5\n",
      "313/313 [==============================] - 3s 10ms/step - loss: 2.2917 - accuracy: 0.1266\n",
      "Epoch 3/5\n",
      "313/313 [==============================] - 3s 9ms/step - loss: 2.2749 - accuracy: 0.1463\n",
      "Epoch 4/5\n",
      "313/313 [==============================] - 2s 7ms/step - loss: 2.2533 - accuracy: 0.1644\n",
      "Epoch 5/5\n",
      "313/313 [==============================] - 2s 6ms/step - loss: 2.2201 - accuracy: 0.1851\n",
      "Epoch 1/5\n",
      "313/313 [==============================] - 6s 10ms/step - loss: 2.3187 - accuracy: 0.0986\n",
      "Epoch 2/5\n",
      "313/313 [==============================] - 2s 7ms/step - loss: 2.2905 - accuracy: 0.1280\n",
      "Epoch 3/5\n",
      "313/313 [==============================] - 2s 7ms/step - loss: 2.2776 - accuracy: 0.1411\n",
      "Epoch 4/5\n",
      "313/313 [==============================] - 3s 8ms/step - loss: 2.2537 - accuracy: 0.1602\n",
      "Epoch 5/5\n",
      "313/313 [==============================] - 3s 10ms/step - loss: 2.2251 - accuracy: 0.1752\n",
      "Epoch 1/5\n",
      "313/313 [==============================] - 9s 9ms/step - loss: 2.3241 - accuracy: 0.1022\n",
      "Epoch 2/5\n",
      "313/313 [==============================] - 2s 7ms/step - loss: 2.2921 - accuracy: 0.1256\n",
      "Epoch 3/5\n",
      "313/313 [==============================] - 3s 9ms/step - loss: 2.2753 - accuracy: 0.1451\n",
      "Epoch 4/5\n",
      "313/313 [==============================] - 4s 11ms/step - loss: 2.2518 - accuracy: 0.1591\n",
      "Epoch 5/5\n",
      "313/313 [==============================] - 4s 13ms/step - loss: 2.2255 - accuracy: 0.1806\n"
     ]
    }
   ],
   "source": [
    "client1_model = create_client_model()\n",
    "client2_model = create_client_model()\n",
    "client3_model = create_client_model()\n",
    "client4_model = create_client_model()\n",
    "client5_model = create_client_model()\n",
    "client6_model = create_client_model()\n",
    "\n",
    "client1_model = train_client_model(client1_model, client_1[0], client_1[1])\n",
    "client2_model = train_client_model(client2_model, client_2[0], client_1[1])\n",
    "client3_model = train_client_model(client3_model, client_3[0], client_1[1])\n",
    "client4_model = train_client_model(client4_model, client_4[0], client_1[1])\n",
    "client5_model = train_client_model(client5_model, client_5[0], client_1[1])\n",
    "client6_model = train_client_model(client6_model, client_6[0], client_1[1])"
   ]
  },
  {
   "cell_type": "code",
   "execution_count": 35,
   "metadata": {
    "id": "B5MLqCAHGXlC"
   },
   "outputs": [],
   "source": [
    "# Federated averaging\n",
    "def federated_average_weights(weights1, weights2, weights3, weights4, weights5, weights6):\n",
    "    new_weights = []\n",
    "    for w1, w2, w3, w4, w5, w6 in zip(weights1, weights2,  weights3,  weights4, weights5, weights6):\n",
    "        new_weights.append((w1 + w2 + w3 + w4 + w5 + w6) / 6)\n",
    "    return new_weights"
   ]
  },
  {
   "cell_type": "code",
   "execution_count": 36,
   "metadata": {
    "id": "CuinGGgdGXnK"
   },
   "outputs": [],
   "source": [
    "# Aggregate models\n",
    "aggregated_weights = federated_average_weights(client1_model.get_weights(), client2_model.get_weights(), client3_model.get_weights(), client4_model.get_weights(),client5_model.get_weights(),client6_model.get_weights())"
   ]
  },
  {
   "cell_type": "code",
   "execution_count": 37,
   "metadata": {
    "colab": {
     "base_uri": "https://localhost:8080/"
    },
    "id": "qY02p3OFGXpk",
    "outputId": "fc6752c3-8142-438e-fc7c-00b7134ecba5"
   },
   "outputs": [
    {
     "name": "stdout",
     "output_type": "stream",
     "text": [
      "313/313 - 3s - loss: 2.2864 - accuracy: 0.1768 - 3s/epoch - 9ms/step\n",
      "Test accuracy: 0.17679999768733978\n"
     ]
    }
   ],
   "source": [
    "# Create global model and set weights\n",
    "global_model = create_client_model()\n",
    "global_model.set_weights(aggregated_weights)\n",
    "\n",
    "# Evaluate global model\n",
    "test_loss, test_acc = global_model.evaluate(x_test, y_test, verbose=2)\n",
    "print('Test accuracy:', test_acc)"
   ]
  },
  {
   "cell_type": "code",
   "execution_count": 38,
   "metadata": {
    "colab": {
     "base_uri": "https://localhost:8080/"
    },
    "id": "ctaORnw8GXrx",
    "outputId": "73367caf-598d-4f87-901d-c440d992eef8"
   },
   "outputs": [
    {
     "name": "stdout",
     "output_type": "stream",
     "text": [
      "313/313 [==============================] - 2s 6ms/step\n",
      "(10000, 10)\n"
     ]
    }
   ],
   "source": [
    "prediction = global_model.predict(x_test)\n",
    "print(prediction.shape)\n",
    "\n",
    "prediction = list(prediction.argmax(axis=1))"
   ]
  },
  {
   "cell_type": "code",
   "execution_count": 39,
   "metadata": {
    "colab": {
     "base_uri": "https://localhost:8080/"
    },
    "id": "iYSLKm-YGXt5",
    "outputId": "7b24fba3-e0d2-42ae-aee0-026604ebf719"
   },
   "outputs": [
    {
     "name": "stdout",
     "output_type": "stream",
     "text": [
      "Accuracy test set: 0.1768\n",
      "precison test set: 0.18168698182650236\n",
      "Recall test set: 0.1768\n",
      "f-score test set: 0.14958748329847868\n"
     ]
    }
   ],
   "source": [
    "print(\"Accuracy test set:\", accuracy_score(y_test, prediction))\n",
    "print(\"precison test set:\", precision_score(y_test, prediction, average = 'weighted'))\n",
    "print(\"Recall test set:\", recall_score(y_test, prediction, average = 'weighted'))\n",
    "print(\"f-score test set:\", f1_score(y_test, prediction, average = 'weighted'))"
   ]
  },
  {
   "cell_type": "code",
   "execution_count": 40,
   "metadata": {},
   "outputs": [],
   "source": [
    "test_accuracy.append(0.1768)\n",
    "test_precision.append(0.18168698182650236)\n",
    "test_recall.append(0.1768)\n",
    "test_f1_score.append(0.14958748329847868)"
   ]
  },
  {
   "cell_type": "code",
   "execution_count": 41,
   "metadata": {},
   "outputs": [
    {
     "name": "stdout",
     "output_type": "stream",
     "text": [
      "[0.8464, 0.3094, 0.1768]\n",
      "[0.8775455396785825, 0.3704074236615539, 0.18168698182650236]\n",
      "[0.8464, 0.3094, 0.1768]\n",
      "[0.8493066701172464, 0.28292712051564833, 0.14958748329847868]\n"
     ]
    }
   ],
   "source": [
    "print(test_accuracy)\n",
    "print(test_precision)\n",
    "print(test_recall)\n",
    "print(test_f1_score)"
   ]
  },
  {
   "cell_type": "markdown",
   "metadata": {
    "id": "WmYXCZHwKifS"
   },
   "source": [
    "## 8 clients\n"
   ]
  },
  {
   "cell_type": "code",
   "execution_count": 42,
   "metadata": {
    "id": "l_vWSCvJGXwj"
   },
   "outputs": [],
   "source": [
    "client_1 = (x_train[0:7500], y_train[0:7500])\n",
    "client_2 = (x_train[7500:15000], y_train[7500:15000])\n",
    "client_3 = (x_train[15000:22500], y_train[15000:22500])\n",
    "client_4 = (x_train[22500:30000], y_train[22500:30000])\n",
    "client_5 = (x_train[30000:37500], y_train[30000:37500])\n",
    "client_6 = (x_train[37500:45000], y_train[37500:45000])\n",
    "client_7 = (x_train[45000:52500], y_train[45000:52500])\n",
    "client_8 = (x_train[52500:], y_train[52500:]) "
   ]
  },
  {
   "cell_type": "code",
   "execution_count": 43,
   "metadata": {
    "id": "eYS0Vw5vJwW-"
   },
   "outputs": [
    {
     "name": "stdout",
     "output_type": "stream",
     "text": [
      "(7500, 28, 28, 1)\n",
      "(7500, 28, 28, 1)\n",
      "(7500, 28, 28, 1)\n",
      "(7500, 28, 28, 1)\n",
      "(7500, 28, 28, 1)\n",
      "(7500, 28, 28, 1)\n",
      "(7500, 28, 28, 1)\n",
      "(7500, 28, 28, 1)\n",
      "(7500,)\n",
      "(7500,)\n",
      "(7500,)\n",
      "(7500,)\n",
      "(7500,)\n",
      "(7500,)\n",
      "(7500,)\n",
      "(7500,)\n"
     ]
    }
   ],
   "source": [
    "print(client_1[0].shape)\n",
    "print(client_2[0].shape)\n",
    "print(client_3[0].shape)\n",
    "print(client_4[0].shape)\n",
    "print(client_5[0].shape)\n",
    "print(client_6[0].shape)\n",
    "print(client_7[0].shape)\n",
    "print(client_8[0].shape)\n",
    "\n",
    "print(client_1[1].shape)\n",
    "print(client_2[1].shape)\n",
    "print(client_3[1].shape)\n",
    "print(client_4[1].shape)\n",
    "print(client_5[1].shape)\n",
    "print(client_6[1].shape)\n",
    "print(client_7[1].shape)\n",
    "print(client_8[1].shape)"
   ]
  },
  {
   "cell_type": "code",
   "execution_count": 44,
   "metadata": {
    "id": "cG6Wf5jyJwZV"
   },
   "outputs": [
    {
     "name": "stdout",
     "output_type": "stream",
     "text": [
      "Epoch 1/5\n",
      "235/235 [==============================] - 3s 6ms/step - loss: 0.5701 - accuracy: 0.8487\n",
      "Epoch 2/5\n",
      "235/235 [==============================] - 1s 5ms/step - loss: 0.2596 - accuracy: 0.9263\n",
      "Epoch 3/5\n",
      "235/235 [==============================] - 1s 6ms/step - loss: 0.1917 - accuracy: 0.9456\n",
      "Epoch 4/5\n",
      "235/235 [==============================] - 2s 7ms/step - loss: 0.1513 - accuracy: 0.9567\n",
      "Epoch 5/5\n",
      "235/235 [==============================] - 2s 9ms/step - loss: 0.1155 - accuracy: 0.9700\n",
      "Epoch 1/5\n",
      "235/235 [==============================] - 6s 12ms/step - loss: 0.6065 - accuracy: 0.8316\n",
      "Epoch 2/5\n",
      "235/235 [==============================] - 3s 11ms/step - loss: 0.2790 - accuracy: 0.9213\n",
      "Epoch 3/5\n",
      "235/235 [==============================] - 3s 11ms/step - loss: 0.2046 - accuracy: 0.9419\n",
      "Epoch 4/5\n",
      "235/235 [==============================] - 2s 7ms/step - loss: 0.1614 - accuracy: 0.9549\n",
      "Epoch 5/5\n",
      "235/235 [==============================] - 1s 6ms/step - loss: 0.1238 - accuracy: 0.9664\n",
      "Epoch 1/5\n",
      "235/235 [==============================] - 5s 12ms/step - loss: 0.5840 - accuracy: 0.8413\n",
      "Epoch 2/5\n",
      "235/235 [==============================] - 1s 6ms/step - loss: 0.2582 - accuracy: 0.9277\n",
      "Epoch 3/5\n",
      "235/235 [==============================] - 1s 5ms/step - loss: 0.1970 - accuracy: 0.9435\n",
      "Epoch 4/5\n",
      "235/235 [==============================] - 1s 6ms/step - loss: 0.1510 - accuracy: 0.9589\n",
      "Epoch 5/5\n",
      "235/235 [==============================] - 1s 5ms/step - loss: 0.1213 - accuracy: 0.9669\n",
      "Epoch 1/5\n",
      "235/235 [==============================] - 3s 4ms/step - loss: 0.6035 - accuracy: 0.8369\n",
      "Epoch 2/5\n",
      "235/235 [==============================] - 2s 7ms/step - loss: 0.2724 - accuracy: 0.9227\n",
      "Epoch 3/5\n",
      "235/235 [==============================] - 2s 10ms/step - loss: 0.1973 - accuracy: 0.9424\n",
      "Epoch 4/5\n",
      "235/235 [==============================] - 2s 7ms/step - loss: 0.1532 - accuracy: 0.9557\n",
      "Epoch 5/5\n",
      "235/235 [==============================] - 2s 10ms/step - loss: 0.1177 - accuracy: 0.9669\n",
      "Epoch 1/5\n",
      "235/235 [==============================] - 5s 11ms/step - loss: 0.6052 - accuracy: 0.8355\n",
      "Epoch 2/5\n",
      "235/235 [==============================] - 2s 7ms/step - loss: 0.2737 - accuracy: 0.9207\n",
      "Epoch 3/5\n",
      "235/235 [==============================] - 2s 10ms/step - loss: 0.2040 - accuracy: 0.9393\n",
      "Epoch 4/5\n",
      "235/235 [==============================] - 2s 10ms/step - loss: 0.1555 - accuracy: 0.9547\n",
      "Epoch 5/5\n",
      "235/235 [==============================] - 2s 7ms/step - loss: 0.1179 - accuracy: 0.9669\n",
      "Epoch 1/5\n",
      "235/235 [==============================] - 6s 15ms/step - loss: 0.6139 - accuracy: 0.8261\n",
      "Epoch 2/5\n",
      "235/235 [==============================] - 2s 8ms/step - loss: 0.2832 - accuracy: 0.9171\n",
      "Epoch 3/5\n",
      "235/235 [==============================] - 1s 6ms/step - loss: 0.2061 - accuracy: 0.9416\n",
      "Epoch 4/5\n",
      "235/235 [==============================] - 1s 6ms/step - loss: 0.1605 - accuracy: 0.9535\n",
      "Epoch 5/5\n",
      "235/235 [==============================] - 2s 7ms/step - loss: 0.1246 - accuracy: 0.9675\n",
      "Epoch 1/5\n",
      "235/235 [==============================] - 4s 7ms/step - loss: 0.6371 - accuracy: 0.8169\n",
      "Epoch 2/5\n",
      "235/235 [==============================] - 1s 6ms/step - loss: 0.2924 - accuracy: 0.9141\n",
      "Epoch 3/5\n",
      "235/235 [==============================] - 2s 7ms/step - loss: 0.2240 - accuracy: 0.9401\n",
      "Epoch 4/5\n",
      "235/235 [==============================] - 2s 7ms/step - loss: 0.1753 - accuracy: 0.9528\n",
      "Epoch 5/5\n",
      "235/235 [==============================] - 2s 10ms/step - loss: 0.1415 - accuracy: 0.9611\n",
      "Epoch 1/5\n",
      "235/235 [==============================] - 4s 8ms/step - loss: 0.5515 - accuracy: 0.8535\n",
      "Epoch 2/5\n",
      "235/235 [==============================] - 2s 7ms/step - loss: 0.2370 - accuracy: 0.9315\n",
      "Epoch 3/5\n",
      "235/235 [==============================] - 2s 10ms/step - loss: 0.1754 - accuracy: 0.9543\n",
      "Epoch 4/5\n",
      "235/235 [==============================] - 3s 11ms/step - loss: 0.1326 - accuracy: 0.9631\n",
      "Epoch 5/5\n",
      "235/235 [==============================] - 2s 9ms/step - loss: 0.1058 - accuracy: 0.9717\n"
     ]
    }
   ],
   "source": [
    "client1_model = create_client_model()\n",
    "client2_model = create_client_model()\n",
    "client3_model = create_client_model()\n",
    "client4_model = create_client_model()\n",
    "client5_model = create_client_model()\n",
    "client6_model = create_client_model()\n",
    "client7_model = create_client_model()\n",
    "client8_model = create_client_model()\n",
    "\n",
    "client1_model = train_client_model(client1_model, client_1[0], client_1[1])\n",
    "client2_model = train_client_model(client2_model, client_2[0], client_2[1])\n",
    "client3_model = train_client_model(client3_model, client_3[0], client_3[1])\n",
    "client4_model = train_client_model(client4_model, client_4[0], client_4[1])\n",
    "client5_model = train_client_model(client5_model, client_5[0], client_5[1])\n",
    "client6_model = train_client_model(client6_model, client_6[0], client_6[1])\n",
    "client7_model = train_client_model(client7_model, client_7[0], client_7[1])\n",
    "client8_model = train_client_model(client8_model, client_8[0], client_8[1])"
   ]
  },
  {
   "cell_type": "code",
   "execution_count": 45,
   "metadata": {
    "id": "xXh3uhF4Jwbe"
   },
   "outputs": [],
   "source": [
    "# Federated averaging\n",
    "def federated_average_weights(weights1, weights2, weights3, weights4,  weights5,  weights6,  weights7,  weights8):\n",
    "    new_weights = []\n",
    "    for w1, w2, w3, w4, w5, w6, w7, w8 in zip(weights1, weights2,  weights3,  weights4,  weights5,  weights6,  weights7,  weights8):\n",
    "        new_weights.append((w1 + w2 + w3 + w4 + w5 + w6 + w7 + w8) / 8)\n",
    "    return new_weights"
   ]
  },
  {
   "cell_type": "code",
   "execution_count": 46,
   "metadata": {
    "id": "MyDp11I_Jwdt"
   },
   "outputs": [],
   "source": [
    "# Aggregate models\n",
    "aggregated_weights = federated_average_weights(client1_model.get_weights(), client2_model.get_weights(), \n",
    "                                               client3_model.get_weights(), client4_model.get_weights(),  \n",
    "                                               client5_model.get_weights(), client6_model.get_weights(), \n",
    "                                               client7_model.get_weights(), client8_model.get_weights())"
   ]
  },
  {
   "cell_type": "code",
   "execution_count": 47,
   "metadata": {
    "id": "O-NfW_GUGXyh"
   },
   "outputs": [
    {
     "name": "stdout",
     "output_type": "stream",
     "text": [
      "313/313 - 3s - loss: 1.4514 - accuracy: 0.6156 - 3s/epoch - 9ms/step\n",
      "Test accuracy: 0.6155999898910522\n"
     ]
    }
   ],
   "source": [
    "# Create global model and set weights\n",
    "global_model = create_client_model()\n",
    "global_model.set_weights(aggregated_weights)\n",
    "\n",
    "# Evaluate global model\n",
    "test_loss, test_acc = global_model.evaluate(x_test, y_test, verbose=2)\n",
    "print('Test accuracy:', test_acc)"
   ]
  },
  {
   "cell_type": "code",
   "execution_count": 48,
   "metadata": {
    "id": "iryi3SEEKAE2"
   },
   "outputs": [
    {
     "name": "stdout",
     "output_type": "stream",
     "text": [
      "313/313 [==============================] - 3s 8ms/step\n",
      "(10000, 10)\n"
     ]
    }
   ],
   "source": [
    "prediction = global_model.predict(x_test)\n",
    "print(prediction.shape)\n",
    "\n",
    "prediction = list(prediction.argmax(axis=1))"
   ]
  },
  {
   "cell_type": "code",
   "execution_count": 49,
   "metadata": {
    "id": "ymbl_sU1KAHX"
   },
   "outputs": [
    {
     "name": "stdout",
     "output_type": "stream",
     "text": [
      "Accuracy test set: 0.6156\n",
      "precison test set: 0.8490000243742335\n",
      "Recall test set: 0.6156\n",
      "f-score test set: 0.5857600932049642\n"
     ]
    }
   ],
   "source": [
    "print(\"Accuracy test set:\", accuracy_score(y_test, prediction))\n",
    "print(\"precison test set:\", precision_score(y_test, prediction, average = 'weighted'))\n",
    "print(\"Recall test set:\", recall_score(y_test, prediction, average = 'weighted'))\n",
    "print(\"f-score test set:\", f1_score(y_test, prediction, average = 'weighted'))"
   ]
  },
  {
   "cell_type": "code",
   "execution_count": 50,
   "metadata": {},
   "outputs": [],
   "source": [
    "test_accuracy.append(0.6156)\n",
    "test_precision.append(0.8490000243742335)\n",
    "test_recall.append(0.6156)\n",
    "test_f1_score.append(0.5857600932049642)"
   ]
  },
  {
   "cell_type": "code",
   "execution_count": 51,
   "metadata": {},
   "outputs": [
    {
     "name": "stdout",
     "output_type": "stream",
     "text": [
      "[0.8464, 0.3094, 0.1768, 0.6156]\n",
      "[0.8775455396785825, 0.3704074236615539, 0.18168698182650236, 0.8490000243742335]\n",
      "[0.8464, 0.3094, 0.1768, 0.6156]\n",
      "[0.8493066701172464, 0.28292712051564833, 0.14958748329847868, 0.5857600932049642]\n"
     ]
    }
   ],
   "source": [
    "print(test_accuracy)\n",
    "print(test_precision)\n",
    "print(test_recall)\n",
    "print(test_f1_score)"
   ]
  },
  {
   "cell_type": "markdown",
   "metadata": {
    "id": "N4ZEjacGKAJl"
   },
   "source": [
    "## 10 clients"
   ]
  },
  {
   "cell_type": "code",
   "execution_count": 52,
   "metadata": {},
   "outputs": [],
   "source": [
    "client_1 = (x_train[0:6000],y_train[0:6000])\n",
    "client_2= (x_train[6000:12000],y_train[6000:12000])\n",
    "client_3= (x_train[12000:18000],y_train[12000:18000])\n",
    "client_4= (x_train[18000:24000], y_train[18000:24000])\n",
    "client_5=(x_train[24000:30000], y_train[24000:30000])\n",
    "client_6= (x_train[30000:36000], y_train[30000:36000])\n",
    "client_7=(x_train[36000:42000], y_train[36000:42000])\n",
    "client_8=(x_train[42000:48000], y_train[42000:48000])\n",
    "client_9=(x_train[48000:54000], y_train[48000:54000])\n",
    "client_10=(x_train[54000:],y_train[54000:])"
   ]
  },
  {
   "cell_type": "code",
   "execution_count": 53,
   "metadata": {},
   "outputs": [
    {
     "name": "stdout",
     "output_type": "stream",
     "text": [
      "(6000, 28, 28, 1)\n",
      "(6000, 28, 28, 1)\n",
      "(6000, 28, 28, 1)\n",
      "(6000, 28, 28, 1)\n",
      "(6000, 28, 28, 1)\n",
      "(6000, 28, 28, 1)\n",
      "(6000, 28, 28, 1)\n",
      "(6000, 28, 28, 1)\n",
      "(6000, 28, 28, 1)\n",
      "(6000, 28, 28, 1)\n",
      "(6000,)\n",
      "(6000,)\n",
      "(6000,)\n",
      "(6000,)\n",
      "(6000,)\n",
      "(6000,)\n",
      "(6000,)\n",
      "(6000,)\n",
      "(6000,)\n",
      "(6000,)\n"
     ]
    }
   ],
   "source": [
    "print(client_1[0].shape)\n",
    "print(client_2[0].shape)\n",
    "print(client_3[0].shape)\n",
    "print(client_4[0].shape)\n",
    "print(client_5[0].shape)\n",
    "print(client_6[0].shape)\n",
    "print(client_7[0].shape)\n",
    "print(client_8[0].shape)\n",
    "print(client_9[0].shape)\n",
    "print(client_10[0].shape)\n",
    "\n",
    "print(client_1[1].shape)\n",
    "print(client_2[1].shape)\n",
    "print(client_3[1].shape)\n",
    "print(client_4[1].shape)\n",
    "print(client_5[1].shape)\n",
    "print(client_6[1].shape)\n",
    "print(client_7[1].shape)\n",
    "print(client_8[1].shape)\n",
    "print(client_9[1].shape)\n",
    "print(client_10[1].shape)"
   ]
  },
  {
   "cell_type": "code",
   "execution_count": 54,
   "metadata": {},
   "outputs": [
    {
     "name": "stdout",
     "output_type": "stream",
     "text": [
      "Epoch 1/5\n",
      "188/188 [==============================] - 4s 10ms/step - loss: 0.6262 - accuracy: 0.8283\n",
      "Epoch 2/5\n",
      "188/188 [==============================] - 1s 6ms/step - loss: 0.2712 - accuracy: 0.9253\n",
      "Epoch 3/5\n",
      "188/188 [==============================] - 2s 10ms/step - loss: 0.2036 - accuracy: 0.9427\n",
      "Epoch 4/5\n",
      "188/188 [==============================] - 1s 5ms/step - loss: 0.1608 - accuracy: 0.9548\n",
      "Epoch 5/5\n",
      "188/188 [==============================] - 1s 5ms/step - loss: 0.1238 - accuracy: 0.9692\n",
      "Epoch 1/5\n",
      "188/188 [==============================] - 4s 8ms/step - loss: 0.6330 - accuracy: 0.8275\n",
      "Epoch 2/5\n",
      "188/188 [==============================] - 1s 6ms/step - loss: 0.2905 - accuracy: 0.9178\n",
      "Epoch 3/5\n",
      "188/188 [==============================] - 2s 12ms/step - loss: 0.2193 - accuracy: 0.9375\n",
      "Epoch 4/5\n",
      "188/188 [==============================] - 2s 10ms/step - loss: 0.1767 - accuracy: 0.9508\n",
      "Epoch 5/5\n",
      "188/188 [==============================] - 2s 9ms/step - loss: 0.1401 - accuracy: 0.9617\n",
      "Epoch 1/5\n",
      "188/188 [==============================] - 8s 9ms/step - loss: 0.6900 - accuracy: 0.8095\n",
      "Epoch 2/5\n",
      "188/188 [==============================] - 1s 7ms/step - loss: 0.3152 - accuracy: 0.9120\n",
      "Epoch 3/5\n",
      "188/188 [==============================] - 1s 6ms/step - loss: 0.2294 - accuracy: 0.9353\n",
      "Epoch 4/5\n",
      "188/188 [==============================] - 1s 6ms/step - loss: 0.1729 - accuracy: 0.9525\n",
      "Epoch 5/5\n",
      "188/188 [==============================] - 1s 5ms/step - loss: 0.1357 - accuracy: 0.9617\n",
      "Epoch 1/5\n",
      "188/188 [==============================] - 5s 13ms/step - loss: 0.6244 - accuracy: 0.8302\n",
      "Epoch 2/5\n",
      "188/188 [==============================] - 2s 12ms/step - loss: 0.2724 - accuracy: 0.9273\n",
      "Epoch 3/5\n",
      "188/188 [==============================] - 3s 14ms/step - loss: 0.2095 - accuracy: 0.9417\n",
      "Epoch 4/5\n",
      "188/188 [==============================] - 2s 10ms/step - loss: 0.1633 - accuracy: 0.9535\n",
      "Epoch 5/5\n",
      "188/188 [==============================] - 1s 8ms/step - loss: 0.1272 - accuracy: 0.9640\n",
      "Epoch 1/5\n",
      "188/188 [==============================] - 3s 6ms/step - loss: 0.6416 - accuracy: 0.8268\n",
      "Epoch 2/5\n",
      "188/188 [==============================] - 1s 6ms/step - loss: 0.2804 - accuracy: 0.9193\n",
      "Epoch 3/5\n",
      "188/188 [==============================] - 1s 6ms/step - loss: 0.2081 - accuracy: 0.9413\n",
      "Epoch 4/5\n",
      "188/188 [==============================] - 1s 6ms/step - loss: 0.1627 - accuracy: 0.9512\n",
      "Epoch 5/5\n",
      "188/188 [==============================] - 1s 5ms/step - loss: 0.1325 - accuracy: 0.9617\n",
      "Epoch 1/5\n",
      "188/188 [==============================] - 5s 13ms/step - loss: 0.6874 - accuracy: 0.8153\n",
      "Epoch 2/5\n",
      "188/188 [==============================] - 2s 10ms/step - loss: 0.2955 - accuracy: 0.9163\n",
      "Epoch 3/5\n",
      "188/188 [==============================] - 2s 11ms/step - loss: 0.2237 - accuracy: 0.9342\n",
      "Epoch 4/5\n",
      "188/188 [==============================] - 1s 6ms/step - loss: 0.1716 - accuracy: 0.9530\n",
      "Epoch 5/5\n",
      "188/188 [==============================] - 2s 9ms/step - loss: 0.1349 - accuracy: 0.9635\n",
      "Epoch 1/5\n",
      "188/188 [==============================] - 2s 6ms/step - loss: 0.6498 - accuracy: 0.8207\n",
      "Epoch 2/5\n",
      "188/188 [==============================] - 1s 7ms/step - loss: 0.2964 - accuracy: 0.9127\n",
      "Epoch 3/5\n",
      "188/188 [==============================] - 1s 7ms/step - loss: 0.2188 - accuracy: 0.9363\n",
      "Epoch 4/5\n",
      "188/188 [==============================] - 1s 6ms/step - loss: 0.1779 - accuracy: 0.9520\n",
      "Epoch 5/5\n",
      "188/188 [==============================] - 1s 5ms/step - loss: 0.1384 - accuracy: 0.9613\n",
      "Epoch 1/5\n",
      "188/188 [==============================] - 4s 11ms/step - loss: 0.6755 - accuracy: 0.8183\n",
      "Epoch 2/5\n",
      "188/188 [==============================] - 2s 9ms/step - loss: 0.3008 - accuracy: 0.9147\n",
      "Epoch 3/5\n",
      "188/188 [==============================] - 2s 8ms/step - loss: 0.2287 - accuracy: 0.9360\n",
      "Epoch 4/5\n",
      "188/188 [==============================] - 1s 6ms/step - loss: 0.1754 - accuracy: 0.9510\n",
      "Epoch 5/5\n",
      "188/188 [==============================] - 2s 8ms/step - loss: 0.1411 - accuracy: 0.9627\n",
      "Epoch 1/5\n",
      "188/188 [==============================] - 1s 7ms/step - loss: 0.2418 - accuracy: 0.9302\n",
      "Epoch 2/5\n",
      "188/188 [==============================] - 1s 7ms/step - loss: 0.1544 - accuracy: 0.9550\n",
      "Epoch 3/5\n",
      "188/188 [==============================] - 1s 8ms/step - loss: 0.1115 - accuracy: 0.9695\n",
      "Epoch 4/5\n",
      "188/188 [==============================] - 2s 8ms/step - loss: 0.0861 - accuracy: 0.9773\n",
      "Epoch 5/5\n",
      "188/188 [==============================] - 1s 5ms/step - loss: 0.0654 - accuracy: 0.9853\n",
      "Epoch 1/5\n",
      "188/188 [==============================] - 1s 6ms/step - loss: 0.1347 - accuracy: 0.9598\n",
      "Epoch 2/5\n",
      "188/188 [==============================] - 1s 6ms/step - loss: 0.0786 - accuracy: 0.9788\n",
      "Epoch 3/5\n",
      "188/188 [==============================] - 2s 9ms/step - loss: 0.0550 - accuracy: 0.9852\n",
      "Epoch 4/5\n",
      "188/188 [==============================] - 1s 7ms/step - loss: 0.0408 - accuracy: 0.9917\n",
      "Epoch 5/5\n",
      "188/188 [==============================] - 1s 6ms/step - loss: 0.0288 - accuracy: 0.9953\n"
     ]
    }
   ],
   "source": [
    "client1_model = create_client_model()\n",
    "client2_model = create_client_model()\n",
    "client3_model = create_client_model()\n",
    "client4_model = create_client_model()\n",
    "client5_model = create_client_model()\n",
    "client6_model = create_client_model()\n",
    "client7_model = create_client_model()\n",
    "client8_model = create_client_model()\n",
    "client9_model = create_client_model()\n",
    "client10_model = create_client_model()\n",
    "\n",
    "client1_model = train_client_model(client1_model, client_1[0], client_1[1])\n",
    "client2_model = train_client_model(client2_model, client_2[0], client_2[1])\n",
    "client3_model = train_client_model(client3_model, client_3[0], client_3[1])\n",
    "client4_model = train_client_model(client4_model, client_4[0], client_4[1])\n",
    "client5_model = train_client_model(client5_model, client_5[0], client_5[1])\n",
    "client6_model = train_client_model(client6_model, client_6[0], client_6[1])\n",
    "client7_model = train_client_model(client7_model, client_7[0], client_7[1])\n",
    "client8_model = train_client_model(client8_model, client_8[0], client_8[1])\n",
    "client9_model = train_client_model(client8_model, client_9[0], client_9[1])\n",
    "client10_model = train_client_model(client8_model, client_10[0], client_10[1])"
   ]
  },
  {
   "cell_type": "code",
   "execution_count": 55,
   "metadata": {},
   "outputs": [],
   "source": [
    "# Federated averaging\n",
    "def federated_average_weights(weights1, weights2, weights3, weights4,  weights5,  weights6,  weights7,  weights8, weights9, weights10):\n",
    "    new_weights = []\n",
    "    for w1, w2, w3, w4, w5, w6, w7, w8, w9, w10 in zip(weights1, weights2,  weights3,  weights4,  weights5,  weights6,  weights7,  weights8, weights9, weights10):\n",
    "        new_weights.append((w1 + w2 + w3 + w4 + w5 + w6 + w7 + w8 + w9 + w10) / 10)\n",
    "    return new_weights"
   ]
  },
  {
   "cell_type": "code",
   "execution_count": 56,
   "metadata": {},
   "outputs": [],
   "source": [
    "# Aggregate models\n",
    "aggregated_weights = federated_average_weights(client1_model.get_weights(), client2_model.get_weights(), \n",
    "                                               client3_model.get_weights(), client4_model.get_weights(),  \n",
    "                                               client5_model.get_weights(), client6_model.get_weights(), \n",
    "                                               client7_model.get_weights(), client8_model.get_weights(),\n",
    "                                               client9_model.get_weights(), client10_model.get_weights())\n",
    "# Create global model and set weights\n",
    "global_model = create_client_model()\n",
    "global_model.set_weights(aggregated_weights)\n"
   ]
  },
  {
   "cell_type": "code",
   "execution_count": 57,
   "metadata": {},
   "outputs": [
    {
     "name": "stdout",
     "output_type": "stream",
     "text": [
      "313/313 - 2s - loss: 1.3038 - accuracy: 0.5326 - 2s/epoch - 7ms/step\n",
      "Test accuracy: 0.5325999855995178\n",
      "313/313 [==============================] - 2s 5ms/step\n",
      "(10000, 10)\n"
     ]
    }
   ],
   "source": [
    "# Evaluate global model\n",
    "test_loss, test_acc = global_model.evaluate(x_test, y_test, verbose=2)\n",
    "print('Test accuracy:', test_acc)\n",
    "\n",
    "prediction = global_model.predict(x_test)\n",
    "print(prediction.shape)\n",
    "\n",
    "prediction = list(prediction.argmax(axis=1))"
   ]
  },
  {
   "cell_type": "code",
   "execution_count": 58,
   "metadata": {},
   "outputs": [
    {
     "name": "stdout",
     "output_type": "stream",
     "text": [
      "Accuracy test set: 0.5326\n",
      "precison test set: 0.7333215685637675\n",
      "Recall test set: 0.5326\n",
      "f-score test set: 0.4905849541531655\n",
      "              precision    recall  f1-score   support\n",
      "\n",
      "           0       0.99      0.18      0.31       980\n",
      "           1       1.00      0.94      0.97      1135\n",
      "           2       0.36      0.98      0.53      1032\n",
      "           3       0.99      0.49      0.66      1010\n",
      "           4       1.00      0.44      0.61       982\n",
      "           5       0.26      0.98      0.41       892\n",
      "           6       1.00      0.05      0.10       958\n",
      "           7       0.73      0.94      0.82      1028\n",
      "           8       0.00      0.00      0.00       974\n",
      "           9       0.93      0.25      0.39      1009\n",
      "\n",
      "    accuracy                           0.53     10000\n",
      "   macro avg       0.73      0.53      0.48     10000\n",
      "weighted avg       0.73      0.53      0.49     10000\n",
      "\n"
     ]
    },
    {
     "name": "stderr",
     "output_type": "stream",
     "text": [
      "/Users/adrianfernandes/anaconda3/lib/python3.11/site-packages/sklearn/metrics/_classification.py:1509: UndefinedMetricWarning: Precision is ill-defined and being set to 0.0 in labels with no predicted samples. Use `zero_division` parameter to control this behavior.\n",
      "  _warn_prf(average, modifier, f\"{metric.capitalize()} is\", len(result))\n",
      "/Users/adrianfernandes/anaconda3/lib/python3.11/site-packages/sklearn/metrics/_classification.py:1509: UndefinedMetricWarning: Precision is ill-defined and being set to 0.0 in labels with no predicted samples. Use `zero_division` parameter to control this behavior.\n",
      "  _warn_prf(average, modifier, f\"{metric.capitalize()} is\", len(result))\n",
      "/Users/adrianfernandes/anaconda3/lib/python3.11/site-packages/sklearn/metrics/_classification.py:1509: UndefinedMetricWarning: Precision is ill-defined and being set to 0.0 in labels with no predicted samples. Use `zero_division` parameter to control this behavior.\n",
      "  _warn_prf(average, modifier, f\"{metric.capitalize()} is\", len(result))\n",
      "/Users/adrianfernandes/anaconda3/lib/python3.11/site-packages/sklearn/metrics/_classification.py:1509: UndefinedMetricWarning: Precision is ill-defined and being set to 0.0 in labels with no predicted samples. Use `zero_division` parameter to control this behavior.\n",
      "  _warn_prf(average, modifier, f\"{metric.capitalize()} is\", len(result))\n"
     ]
    }
   ],
   "source": [
    "print(\"Accuracy test set:\", accuracy_score(y_test, prediction))\n",
    "print(\"precison test set:\", precision_score(y_test, prediction, average = 'weighted'))\n",
    "print(\"Recall test set:\", recall_score(y_test, prediction, average = 'weighted'))\n",
    "print(\"f-score test set:\", f1_score(y_test, prediction, average = 'weighted'))\n",
    "\n",
    "print(classification_report(y_test, prediction))"
   ]
  },
  {
   "cell_type": "code",
   "execution_count": 59,
   "metadata": {},
   "outputs": [
    {
     "name": "stdout",
     "output_type": "stream",
     "text": [
      "[0.8464, 0.3094, 0.1768, 0.6156, 0.5326]\n",
      "[0.8775455396785825, 0.3704074236615539, 0.18168698182650236, 0.8490000243742335, 0.7333215685637675]\n",
      "[0.8464, 0.3094, 0.1768, 0.6156, 0.5326]\n",
      "[0.8493066701172464, 0.28292712051564833, 0.14958748329847868, 0.5857600932049642, 0.4905849541531655]\n"
     ]
    }
   ],
   "source": [
    "test_accuracy.append(0.5326)\n",
    "test_precision.append(0.7333215685637675)\n",
    "test_recall.append(0.5326)\n",
    "test_f1_score.append(0.4905849541531655)\n",
    "\n",
    "print(test_accuracy)\n",
    "print(test_precision)\n",
    "print(test_recall)\n",
    "print(test_f1_score)"
   ]
  },
  {
   "cell_type": "markdown",
   "metadata": {},
   "source": [
    "Plot the model's performance for the number of clients ranging from 2, 4, 6, 8, and 10.¶"
   ]
  },
  {
   "cell_type": "code",
   "execution_count": 60,
   "metadata": {},
   "outputs": [],
   "source": [
    "import pandas as pd"
   ]
  },
  {
   "cell_type": "code",
   "execution_count": 61,
   "metadata": {},
   "outputs": [
    {
     "name": "stdout",
     "output_type": "stream",
     "text": [
      "[[0.8464, 0.3094, 0.1768, 0.6156, 0.5326], [0.8775455396785825, 0.3704074236615539, 0.18168698182650236, 0.8490000243742335, 0.7333215685637675], [0.8464, 0.3094, 0.1768, 0.6156, 0.5326], [0.8493066701172464, 0.28292712051564833, 0.14958748329847868, 0.5857600932049642, 0.4905849541531655]]\n"
     ]
    },
    {
     "data": {
      "text/html": [
       "<div>\n",
       "<style scoped>\n",
       "    .dataframe tbody tr th:only-of-type {\n",
       "        vertical-align: middle;\n",
       "    }\n",
       "\n",
       "    .dataframe tbody tr th {\n",
       "        vertical-align: top;\n",
       "    }\n",
       "\n",
       "    .dataframe thead th {\n",
       "        text-align: right;\n",
       "    }\n",
       "</style>\n",
       "<table border=\"1\" class=\"dataframe\">\n",
       "  <thead>\n",
       "    <tr style=\"text-align: right;\">\n",
       "      <th></th>\n",
       "      <th>Accuracy</th>\n",
       "      <th>Precision</th>\n",
       "      <th>Recall</th>\n",
       "      <th>F1_Score</th>\n",
       "    </tr>\n",
       "  </thead>\n",
       "  <tbody>\n",
       "    <tr>\n",
       "      <th>2</th>\n",
       "      <td>0.8464</td>\n",
       "      <td>0.877546</td>\n",
       "      <td>0.8464</td>\n",
       "      <td>0.849307</td>\n",
       "    </tr>\n",
       "    <tr>\n",
       "      <th>4</th>\n",
       "      <td>0.3094</td>\n",
       "      <td>0.370407</td>\n",
       "      <td>0.3094</td>\n",
       "      <td>0.282927</td>\n",
       "    </tr>\n",
       "    <tr>\n",
       "      <th>6</th>\n",
       "      <td>0.1768</td>\n",
       "      <td>0.181687</td>\n",
       "      <td>0.1768</td>\n",
       "      <td>0.149587</td>\n",
       "    </tr>\n",
       "    <tr>\n",
       "      <th>8</th>\n",
       "      <td>0.6156</td>\n",
       "      <td>0.849000</td>\n",
       "      <td>0.6156</td>\n",
       "      <td>0.585760</td>\n",
       "    </tr>\n",
       "    <tr>\n",
       "      <th>10</th>\n",
       "      <td>0.5326</td>\n",
       "      <td>0.733322</td>\n",
       "      <td>0.5326</td>\n",
       "      <td>0.490585</td>\n",
       "    </tr>\n",
       "  </tbody>\n",
       "</table>\n",
       "</div>"
      ],
      "text/plain": [
       "    Accuracy  Precision  Recall  F1_Score\n",
       "2     0.8464   0.877546  0.8464  0.849307\n",
       "4     0.3094   0.370407  0.3094  0.282927\n",
       "6     0.1768   0.181687  0.1768  0.149587\n",
       "8     0.6156   0.849000  0.6156  0.585760\n",
       "10    0.5326   0.733322  0.5326  0.490585"
      ]
     },
     "execution_count": 61,
     "metadata": {},
     "output_type": "execute_result"
    }
   ],
   "source": [
    "ErrorMetrics = []\n",
    "ErrorMetrics.append(test_accuracy)\n",
    "ErrorMetrics.append(test_precision)\n",
    "ErrorMetrics.append(test_recall)\n",
    "ErrorMetrics.append(test_f1_score)\n",
    "\n",
    "print(ErrorMetrics)\n",
    "\n",
    "ErrorMetrics_pd = pd.DataFrame(ErrorMetrics)\n",
    "ErrorMetrics_pd.columns = [2,4,6,8,10]\n",
    "ErrorMetrics_pd = ErrorMetrics_pd.T\n",
    "ErrorMetrics_pd.columns = ['Accuracy','Precision','Recall','F1_Score']\n",
    "ErrorMetrics_pd"
   ]
  },
  {
   "cell_type": "code",
   "execution_count": 62,
   "metadata": {},
   "outputs": [
    {
     "data": {
      "text/plain": [
       "<Axes: >"
      ]
     },
     "execution_count": 62,
     "metadata": {},
     "output_type": "execute_result"
    },
    {
     "data": {
      "image/png": "[encoded data removed]",
      "text/plain": [
       "<Figure size 640x480 with 1 Axes>"
      ]
     },
     "metadata": {},
     "output_type": "display_data"
    }
   ],
   "source": [
    "ErrorMetrics_pd.plot.bar(width=0.7, alpha=0.7)"
   ]
  },
  {
   "cell_type": "markdown",
   "metadata": {},
   "source": [
    "## Dishonest "
   ]
  },
  {
   "cell_type": "code",
   "execution_count": 63,
   "metadata": {},
   "outputs": [],
   "source": [
    "# Split data into 8 clients\n",
    "client_1 = (x_train[0:7500], y_train[0:7500])\n",
    "client_2 = (x_train[7500:15000], y_train[7500:15000])\n",
    "client_3 = (x_train[15000:22500], y_train[15000:22500])\n",
    "client_4 = (x_train[22500:30000], y_train[22500:30000])\n",
    "client_5 = (x_train[30000:37500], y_train[30000:37500])\n",
    "client_6 = (x_train[37500:45000], y_train[37500:45000])\n",
    "client_7 = (x_train[45000:52500], y_train[45000:52500])\n",
    "client_8 = (x_train[52500:], y_train[52500:]) "
   ]
  },
  {
   "cell_type": "code",
   "execution_count": 64,
   "metadata": {},
   "outputs": [
    {
     "data": {
      "text/plain": [
       "7500"
      ]
     },
     "execution_count": 64,
     "metadata": {},
     "output_type": "execute_result"
    }
   ],
   "source": [
    "client_7[1].size"
   ]
  },
  {
   "cell_type": "code",
   "execution_count": 65,
   "metadata": {},
   "outputs": [
    {
     "data": {
      "text/plain": [
       "array([3, 1, 1, ..., 7, 1, 4], dtype=uint8)"
      ]
     },
     "execution_count": 65,
     "metadata": {},
     "output_type": "execute_result"
    }
   ],
   "source": [
    "client_7[1]"
   ]
  },
  {
   "cell_type": "code",
   "execution_count": 66,
   "metadata": {},
   "outputs": [],
   "source": [
    "client_7[1][:7000] = 7"
   ]
  },
  {
   "cell_type": "code",
   "execution_count": 67,
   "metadata": {},
   "outputs": [
    {
     "data": {
      "text/plain": [
       "array([7, 7, 7, ..., 7, 1, 4], dtype=uint8)"
      ]
     },
     "execution_count": 67,
     "metadata": {},
     "output_type": "execute_result"
    }
   ],
   "source": [
    "client_7[1]"
   ]
  },
  {
   "cell_type": "code",
   "execution_count": 68,
   "metadata": {},
   "outputs": [
    {
     "name": "stdout",
     "output_type": "stream",
     "text": [
      "(7500, 28, 28, 1)\n",
      "(7500, 28, 28, 1)\n",
      "(7500, 28, 28, 1)\n",
      "(7500, 28, 28, 1)\n",
      "(7500, 28, 28, 1)\n",
      "(7500, 28, 28, 1)\n",
      "(7500, 28, 28, 1)\n",
      "(7500, 28, 28, 1)\n",
      "(7500,)\n",
      "(7500,)\n",
      "(7500,)\n",
      "(7500,)\n",
      "(7500,)\n",
      "(7500,)\n",
      "(7500,)\n",
      "(7500,)\n"
     ]
    }
   ],
   "source": [
    "print(client_1[0].shape)\n",
    "print(client_2[0].shape)\n",
    "print(client_3[0].shape)\n",
    "print(client_4[0].shape)\n",
    "print(client_5[0].shape)\n",
    "print(client_6[0].shape)\n",
    "print(client_7[0].shape)\n",
    "print(client_8[0].shape)\n",
    "\n",
    "print(client_1[1].shape)\n",
    "print(client_2[1].shape)\n",
    "print(client_3[1].shape)\n",
    "print(client_4[1].shape)\n",
    "print(client_5[1].shape)\n",
    "print(client_6[1].shape)\n",
    "print(client_7[1].shape)\n",
    "print(client_8[1].shape)"
   ]
  },
  {
   "cell_type": "code",
   "execution_count": 69,
   "metadata": {},
   "outputs": [
    {
     "name": "stdout",
     "output_type": "stream",
     "text": [
      "Epoch 1/5\n",
      "235/235 [==============================] - 3s 4ms/step - loss: 0.5688 - accuracy: 0.8433\n",
      "Epoch 2/5\n",
      "235/235 [==============================] - 1s 6ms/step - loss: 0.2565 - accuracy: 0.9264\n",
      "Epoch 3/5\n",
      "235/235 [==============================] - 2s 7ms/step - loss: 0.1897 - accuracy: 0.9465\n",
      "Epoch 4/5\n",
      "235/235 [==============================] - 3s 11ms/step - loss: 0.1463 - accuracy: 0.9592\n",
      "Epoch 5/5\n",
      "235/235 [==============================] - 4s 18ms/step - loss: 0.1136 - accuracy: 0.9685\n",
      "Epoch 1/5\n",
      "235/235 [==============================] - 6s 16ms/step - loss: 2.3189 - accuracy: 0.1039\n",
      "Epoch 2/5\n",
      "235/235 [==============================] - 3s 12ms/step - loss: 2.2918 - accuracy: 0.1244\n",
      "Epoch 3/5\n",
      "235/235 [==============================] - 2s 10ms/step - loss: 2.2745 - accuracy: 0.1403\n",
      "Epoch 4/5\n",
      "235/235 [==============================] - 2s 9ms/step - loss: 2.2494 - accuracy: 0.1639\n",
      "Epoch 5/5\n",
      "235/235 [==============================] - 1s 5ms/step - loss: 2.2182 - accuracy: 0.1821\n",
      "Epoch 1/5\n",
      "235/235 [==============================] - 4s 7ms/step - loss: 2.3237 - accuracy: 0.1024\n",
      "Epoch 2/5\n",
      "235/235 [==============================] - 2s 7ms/step - loss: 2.2867 - accuracy: 0.1305\n",
      "Epoch 3/5\n",
      "235/235 [==============================] - 2s 8ms/step - loss: 2.2680 - accuracy: 0.1504\n",
      "Epoch 4/5\n",
      "235/235 [==============================] - 2s 9ms/step - loss: 2.2411 - accuracy: 0.1659\n",
      "Epoch 5/5\n",
      "235/235 [==============================] - 2s 7ms/step - loss: 2.2103 - accuracy: 0.1816\n",
      "Epoch 1/5\n",
      "235/235 [==============================] - 9s 26ms/step - loss: 2.3252 - accuracy: 0.1039\n",
      "Epoch 2/5\n",
      "235/235 [==============================] - 3s 11ms/step - loss: 2.2880 - accuracy: 0.1332\n",
      "Epoch 3/5\n",
      "235/235 [==============================] - 3s 13ms/step - loss: 2.2656 - accuracy: 0.1524\n",
      "Epoch 4/5\n",
      "235/235 [==============================] - 3s 12ms/step - loss: 2.2434 - accuracy: 0.1668\n",
      "Epoch 5/5\n",
      "235/235 [==============================] - 4s 19ms/step - loss: 2.2077 - accuracy: 0.1931\n",
      "Epoch 1/5\n",
      "235/235 [==============================] - 9s 17ms/step - loss: 2.3281 - accuracy: 0.0971\n",
      "Epoch 2/5\n",
      "235/235 [==============================] - 3s 12ms/step - loss: 2.2894 - accuracy: 0.1308\n",
      "Epoch 3/5\n",
      "235/235 [==============================] - 3s 12ms/step - loss: 2.2688 - accuracy: 0.1455\n",
      "Epoch 4/5\n",
      "235/235 [==============================] - 1s 6ms/step - loss: 2.2438 - accuracy: 0.1677\n",
      "Epoch 5/5\n",
      "235/235 [==============================] - 2s 9ms/step - loss: 2.2089 - accuracy: 0.1896\n",
      "Epoch 1/5\n",
      "235/235 [==============================] - 5s 13ms/step - loss: 2.3260 - accuracy: 0.1000\n",
      "Epoch 2/5\n",
      "235/235 [==============================] - 2s 9ms/step - loss: 2.2867 - accuracy: 0.1335\n",
      "Epoch 3/5\n",
      "235/235 [==============================] - 3s 14ms/step - loss: 2.2645 - accuracy: 0.1483\n",
      "Epoch 4/5\n",
      "235/235 [==============================] - 3s 11ms/step - loss: 2.2354 - accuracy: 0.1745\n",
      "Epoch 5/5\n",
      "235/235 [==============================] - 2s 8ms/step - loss: 2.1988 - accuracy: 0.1955\n",
      "Epoch 1/5\n",
      "235/235 [==============================] - 3s 7ms/step - loss: 2.3248 - accuracy: 0.1016\n",
      "Epoch 2/5\n",
      "235/235 [==============================] - 1s 6ms/step - loss: 2.2877 - accuracy: 0.1303\n",
      "Epoch 3/5\n",
      "235/235 [==============================] - 2s 7ms/step - loss: 2.2648 - accuracy: 0.1479\n",
      "Epoch 4/5\n",
      "235/235 [==============================] - 2s 10ms/step - loss: 2.2323 - accuracy: 0.1732\n",
      "Epoch 5/5\n",
      "235/235 [==============================] - 2s 8ms/step - loss: 2.1989 - accuracy: 0.1905\n",
      "Epoch 1/5\n",
      "235/235 [==============================] - 4s 10ms/step - loss: 2.3260 - accuracy: 0.1012\n",
      "Epoch 2/5\n",
      "235/235 [==============================] - 1s 6ms/step - loss: 2.2900 - accuracy: 0.1231\n",
      "Epoch 3/5\n",
      "235/235 [==============================] - 1s 6ms/step - loss: 2.2723 - accuracy: 0.1445\n",
      "Epoch 4/5\n",
      "235/235 [==============================] - 1s 6ms/step - loss: 2.2443 - accuracy: 0.1653\n",
      "Epoch 5/5\n",
      "235/235 [==============================] - 2s 7ms/step - loss: 2.2118 - accuracy: 0.1901\n"
     ]
    }
   ],
   "source": [
    "# Create and train client models\n",
    "client1_model = create_client_model()\n",
    "client2_model = create_client_model()\n",
    "client3_model = create_client_model()\n",
    "client4_model = create_client_model()\n",
    "client5_model = create_client_model()\n",
    "client6_model = create_client_model()\n",
    "client7_model = create_client_model()\n",
    "client8_model = create_client_model()\n",
    "\n",
    "client1_model = train_client_model(client1_model, client_1[0], client_1[1])\n",
    "client2_model = train_client_model(client2_model, client_2[0], client_1[1])\n",
    "client3_model = train_client_model(client3_model, client_3[0], client_1[1])\n",
    "client4_model = train_client_model(client4_model, client_4[0], client_1[1])\n",
    "client5_model = train_client_model(client5_model, client_5[0], client_1[1])\n",
    "client6_model = train_client_model(client6_model, client_6[0], client_1[1])\n",
    "client7_model = train_client_model(client7_model, client_7[0], client_1[1])\n",
    "client8_model = train_client_model(client8_model, client_8[0], client_1[1])"
   ]
  },
  {
   "cell_type": "code",
   "execution_count": 70,
   "metadata": {},
   "outputs": [],
   "source": [
    "# Federated averaging\n",
    "def federated_average_weights(weights1, weights2, weights3, weights4, weights5, weights6, weights7, weights8):\n",
    "    new_weights = []\n",
    "    for w1, w2, w3, w4, w5, w6, w7, w8 in zip(weights1, weights2, weights3, weights4, weights5, weights6, weights7, weights8):\n",
    "        new_weights.append((w1 + w2 + w3 + w4 + w5 + w6 + w7 + w8) / 8)\n",
    "    return new_weights\n",
    "\n",
    "\n",
    "# Aggregate models\n",
    "aggregated_weights = federated_average_weights(client1_model.get_weights(), \n",
    "                                               client2_model.get_weights(), \n",
    "                                               client3_model.get_weights(),\n",
    "                                               client4_model.get_weights(),\n",
    "                                               client5_model.get_weights(), \n",
    "                                               client6_model.get_weights(), \n",
    "                                               client7_model.get_weights(),\n",
    "                                               client8_model.get_weights())\n",
    "                                             \n",
    "# Create global model and set weights\n",
    "global_model = create_client_model()\n",
    "global_model.set_weights(aggregated_weights)"
   ]
  },
  {
   "cell_type": "code",
   "execution_count": 71,
   "metadata": {},
   "outputs": [
    {
     "name": "stdout",
     "output_type": "stream",
     "text": [
      "313/313 - 3s - loss: 2.2943 - accuracy: 0.2609 - 3s/epoch - 9ms/step\n",
      "Test accuracy: 0.26089999079704285\n",
      "313/313 [==============================] - 2s 6ms/step\n",
      "(10000, 10)\n",
      "Accuracy test set:  0.2609\n",
      "Precision test set:  0.26593553168850154\n",
      "Recall test set:  0.2609\n",
      "F-score test set:  0.18300969610277026\n",
      "              precision    recall  f1-score   support\n",
      "\n",
      "           0       0.12      0.02      0.03       980\n",
      "           1       0.28      0.93      0.42      1135\n",
      "           2       0.42      0.05      0.10      1032\n",
      "           3       0.00      0.00      0.00      1010\n",
      "           4       0.50      0.09      0.15       982\n",
      "           5       0.54      0.08      0.13       892\n",
      "           6       0.44      0.35      0.39       958\n",
      "           7       0.24      0.59      0.34      1028\n",
      "           8       0.17      0.40      0.24       974\n",
      "           9       0.00      0.00      0.00      1009\n",
      "\n",
      "    accuracy                           0.26     10000\n",
      "   macro avg       0.27      0.25      0.18     10000\n",
      "weighted avg       0.27      0.26      0.18     10000\n",
      "\n"
     ]
    }
   ],
   "source": [
    "# Evaluate global model\n",
    "test_loss, test_acc = global_model.evaluate(x_test, y_test, verbose=2)\n",
    "print('Test accuracy:', test_acc)\n",
    "\n",
    "predictions = global_model.predict(x_test)\n",
    "print(predictions.shape)\n",
    "\n",
    "predictions = list(predictions.argmax(axis=1))\n",
    "\n",
    "print(\"Accuracy test set: \", accuracy_score(y_test, predictions))\n",
    "\n",
    "print(\"Precision test set: \", precision_score(y_test, predictions, average = 'weighted' )) \n",
    "print(\"Recall test set: \", recall_score(y_test, predictions, average = 'weighted' ))\n",
    "print(\"F-score test set: \", f1_score(y_test, predictions, average = 'weighted' ))\n",
    "\n",
    "print(classification_report(y_test, predictions))"
   ]
  },
  {
   "cell_type": "code",
   "execution_count": 72,
   "metadata": {},
   "outputs": [],
   "source": [
    "test_accuracy_dishonest  = []\n",
    "test_precision_dishonest = []\n",
    "test_recall_dishonest    = []\n",
    "test_f1_score_dishonest  = []"
   ]
  },
  {
   "cell_type": "code",
   "execution_count": 73,
   "metadata": {},
   "outputs": [
    {
     "name": "stdout",
     "output_type": "stream",
     "text": [
      "[0.1768, 0.2609]\n",
      "[0.18168698182650236, 0.26593553168850154]\n",
      "[0.1768, 0.2609]\n",
      "[0.14958748329847868, 0.18300969610277026]\n"
     ]
    }
   ],
   "source": [
    "test_accuracy_dishonest.append(test_accuracy[2])\n",
    "test_precision_dishonest.append(test_precision[2])\n",
    "test_recall_dishonest.append(test_recall[2])\n",
    "test_f1_score_dishonest.append(test_f1_score[2])\n",
    "\n",
    "test_accuracy_dishonest.append(0.2609)\n",
    "test_precision_dishonest.append(0.26593553168850154)\n",
    "test_recall_dishonest.append(0.2609)\n",
    "test_f1_score_dishonest.append(0.18300969610277026)\n",
    "\n",
    "print(test_accuracy_dishonest)\n",
    "print(test_precision_dishonest)\n",
    "print(test_recall_dishonest)\n",
    "print(test_f1_score_dishonest)"
   ]
  },
  {
   "cell_type": "code",
   "execution_count": 74,
   "metadata": {},
   "outputs": [
    {
     "name": "stdout",
     "output_type": "stream",
     "text": [
      "[[0.1768, 0.2609], [0.18168698182650236, 0.26593553168850154], [0.1768, 0.2609], [0.14958748329847868, 0.18300969610277026]]\n"
     ]
    },
    {
     "data": {
      "text/html": [
       "<div>\n",
       "<style scoped>\n",
       "    .dataframe tbody tr th:only-of-type {\n",
       "        vertical-align: middle;\n",
       "    }\n",
       "\n",
       "    .dataframe tbody tr th {\n",
       "        vertical-align: top;\n",
       "    }\n",
       "\n",
       "    .dataframe thead th {\n",
       "        text-align: right;\n",
       "    }\n",
       "</style>\n",
       "<table border=\"1\" class=\"dataframe\">\n",
       "  <thead>\n",
       "    <tr style=\"text-align: right;\">\n",
       "      <th></th>\n",
       "      <th>Accuracy</th>\n",
       "      <th>Precision</th>\n",
       "      <th>Recall</th>\n",
       "      <th>F1_Score</th>\n",
       "    </tr>\n",
       "  </thead>\n",
       "  <tbody>\n",
       "    <tr>\n",
       "      <th>All are honest</th>\n",
       "      <td>0.1768</td>\n",
       "      <td>0.181687</td>\n",
       "      <td>0.1768</td>\n",
       "      <td>0.149587</td>\n",
       "    </tr>\n",
       "    <tr>\n",
       "      <th>#7 is dishonest</th>\n",
       "      <td>0.2609</td>\n",
       "      <td>0.265936</td>\n",
       "      <td>0.2609</td>\n",
       "      <td>0.183010</td>\n",
       "    </tr>\n",
       "  </tbody>\n",
       "</table>\n",
       "</div>"
      ],
      "text/plain": [
       "                 Accuracy  Precision  Recall  F1_Score\n",
       "All are honest     0.1768   0.181687  0.1768  0.149587\n",
       "#7 is dishonest    0.2609   0.265936  0.2609  0.183010"
      ]
     },
     "execution_count": 74,
     "metadata": {},
     "output_type": "execute_result"
    }
   ],
   "source": [
    "### Plot the model's performance for the 4 clients, one of them (number=3) is dishonest\n",
    "\n",
    "ErrorMetrics = []\n",
    "ErrorMetrics.append(test_accuracy_dishonest)\n",
    "ErrorMetrics.append(test_precision_dishonest)\n",
    "ErrorMetrics.append(test_recall_dishonest)\n",
    "ErrorMetrics.append(test_f1_score_dishonest)\n",
    "\n",
    "print(ErrorMetrics)\n",
    "\n",
    "ErrorMetrics_pd = pd.DataFrame(ErrorMetrics)\n",
    "ErrorMetrics_pd.columns = ['All are honest', '#7 is dishonest']\n",
    "ErrorMetrics_pd = ErrorMetrics_pd.T\n",
    "ErrorMetrics_pd.columns = ['Accuracy','Precision','Recall','F1_Score']\n",
    "ErrorMetrics_pd"
   ]
  },
  {
   "cell_type": "code",
   "execution_count": 75,
   "metadata": {},
   "outputs": [
    {
     "data": {
      "text/plain": [
       "<Axes: >"
      ]
     },
     "execution_count": 75,
     "metadata": {},
     "output_type": "execute_result"
    },
    {
     "data": {
      "image/png": "[encoded data removed]",
      "text/plain": [
       "<Figure size 640x480 with 1 Axes>"
      ]
     },
     "metadata": {},
     "output_type": "display_data"
    }
   ],
   "source": [
    "ErrorMetrics_pd.plot.bar(width=0.7, alpha=0.7)"
   ]
  },
  {
   "cell_type": "markdown",
   "metadata": {
    "id": "aeKbFr6UHMPx"
   },
   "source": [
    "# Lab Logbook requirement: Document the following in lablogbook\n",
    "\n",
    "1. Plot the model's performance for the number of clients ranging from 2, 4, 6, 8, and 10.\n",
    "\n",
    "2. For any specified number of clients, compare the model's performance when one (or more) dishonest clients are present. Plot the performance metrics before and after the presence of dishonest clients.\n",
    "\n",
    "\n"
   ]
  },
  {
   "cell_type": "markdown",
   "metadata": {
    "id": "PQVf56VHHNQe"
   },
   "source": [
    "# Challenges (Optional):\n",
    "\n",
    "## The above code is for one communication round. Write code for multiple communication rounds. In each communication round, clients will train the model on a new dataset. Then the server will merge all these models. Subsequently, the clients will retrain the merged model in the next communication round.\n",
    "\n"
   ]
  }
 ],
 "metadata": {
  "colab": {
   "provenance": [],
   "toc_visible": true
  },
  "kernelspec": {
   "display_name": "Python 3 (ipykernel)",
   "language": "python",
   "name": "python3"
  },
  "language_info": {
   "codemirror_mode": {
    "name": "ipython",
    "version": 3
   },
   "file_extension": ".py",
   "mimetype": "text/x-python",
   "name": "python",
   "nbconvert_exporter": "python",
   "pygments_lexer": "ipython3",
   "version": "3.11.8"
  }
 },
 "nbformat": 4,
 "nbformat_minor": 4
}
